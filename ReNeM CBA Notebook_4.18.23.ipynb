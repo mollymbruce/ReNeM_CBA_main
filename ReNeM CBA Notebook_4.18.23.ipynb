{
 "cells": [
  {
   "cell_type": "markdown",
   "metadata": {},
   "source": [
    "# Cost-Benefit Analysis of ReNeM "
   ]
  },
  {
   "cell_type": "markdown",
   "metadata": {},
   "source": [
    "## Background\n",
    "Recharge Net Metering (ReNeM) is a performance-based policy instrument that provides financial incentives to prospective rechargers in exchange for land use practices that result in groundwater recharge. ReNeM is one in a list of potential options water management agencies have at their disposal to manage water supply for water users within their basins. However, these different options each have financial implications and these financial implications influence the viability of these different water management options. Water management agencies confront a challenging mandate, particularly in the wake of the Sustainable Groundwater Management Act (SGMA): to ensure cost-effective and sustainable water supplies for their basins and water consumers within their basins. \n",
    " \n",
    "Since the Recharge Net Metering (ReNeM) program's inception, we have posited that ReNeM is one-such sustainable, cost-effective water management tool. We now substantiate this assertion using data from its operation in the Pajaro Valley in order to provide a tool to other water management agencies; this analysis explores the distribution of costs and benefits at ReNeM sites in the Pajaro Valley. This tool will help these agencies consider the distribution of ReNeM's costs and benefits and assess whether a similar, incentive-based recharge program is appropriate in their own basin. To this end, this tool will model various NPV scenarios. These scenarios examine the distribution of benefits when groundwater recharge volumes are (1) uniform across all project years, (2) different each project year but at fixed values based on historic predictions, and (3) variable each project year based on random sampling from historic predictions. \n",
    " \n",
    "Dr. Andrew Fisher's team has collected several years of data for one of ReNeM’s project sites; that data is published as S. Beganskas, A.T. Fisher, \"Coupling distributed stormwater collection and managed aquifer recharge: Field application and implications\", Journal of Environmental Management, Volume 200, 2017, Pages 366-379, ISSN 0301-4797, https://doi.org/10.1016/j.jenvman.2017.05.058. A cost benefit analysis of the Bokariza recharge site has already been completed and is available in Appendix E of the report, published as Schmidt, R., Lozano, S., Robins, J., Schwartz, A., Batker, D., 2015. Nature’s Value in Santa Cruz County. Earth Economics, Tacoma, WA & the Resource Conservation District of Santa Cruz County, Capitola, CA."
   ]
  },
  {
   "cell_type": "code",
   "execution_count": 1,
   "metadata": {},
   "outputs": [],
   "source": [
    "import warnings\n",
    "warnings.filterwarnings(\"ignore\")\n",
    "\n",
    "# from __future__ import print_function\n",
    "\n",
    "import numpy as np\n",
    "import pandas as pd\n",
    "import seaborn as sns\n",
    "import matplotlib.pyplot as plt\n",
    "import os.path\n",
    "import os\n",
    "import pickle\n",
    "import matplotlib as mpl\n",
    "from scipy import stats\n",
    "\n",
    "plt.rcParams['font.sans-serif'] = \"Arial\"\n",
    "plt.rcParams['font.family'] = \"sans-serif\""
   ]
  },
  {
   "cell_type": "markdown",
   "metadata": {},
   "source": [
    "${\\text{Formula without baseline payment: }} NPV_{\\text{basin}} = \\sum_{t=1}^{n} \\cfrac{Q_t \\ V_t - (\\lambda \\ Q_t C_t + i_t)}{(1+r)^t}$"
   ]
  },
  {
   "cell_type": "markdown",
   "metadata": {},
   "source": [
    "$ NPV_{\\text{rechargers}} = \\sum_{t=1}^{n} \\cfrac{\\lambda \\ Q_t C_t - o (M_{\\text{equipment}}) - a (M_{\\text{labor}} + P_t) - B_t}{(1+r)^t}$"
   ]
  },
  {
   "cell_type": "markdown",
   "metadata": {},
   "source": [
    "${\\text{Formula with baseline payment: }} NPV_{\\text{basin}} = \\sum_{t=1}^{n} \\cfrac{Q_t \\ V_t - (\\lambda \\ Q_t C_t + i_t + o(s_t))}{(1+r)^t}$"
   ]
  },
  {
   "cell_type": "markdown",
   "metadata": {},
   "source": [
    "$NPV_{\\text{rechargers}} = \\sum_{t=1}^{n} \\cfrac{\\lambda \\ Q_t C_t - o(s_t + M_{\\text{equipment}}) - a(M_{\\text{labor}} + P_t) - B_t}{(1+r)^t}$"
   ]
  },
  {
   "cell_type": "markdown",
   "metadata": {},
   "source": [
    "$t$ = year\n",
    "\n",
    "$n$ = project lifespan\n",
    "\n",
    "$Q_t$ = quantity of recharge in year t\n",
    "\n",
    "$V_t$ = water replacement value\n",
    "\n",
    "$C_t$ = volumetric pumping fee in year t\n",
    "\n",
    "$λ$ = rebate factor\n",
    "\n",
    "$r$ = discount rate\n",
    "\n",
    "$o$ = number of ReNeM projects\n",
    "\n",
    "$s_t$ = baseline payment to each recharge project in year t\n",
    "\n",
    "$i_t$ = incidental program operation costs in year t\n",
    "\n",
    "$a$ = number of acres of land dedicated exclusively to groundwater recharge \n",
    "\n",
    "$M_{\\text{equipment}}$ = annual site operations and maintenance costs related to equipment\n",
    "\n",
    "$M_{\\text{labor}}$ = annual site operations and maintenance costs related to labor\n",
    "\n",
    "$P_t$ = recharger opportunity costs in year t\n",
    "\n",
    "$B_t$ = cost of obtaining excess water in year t\n",
    "\n",
    "$F$ = fixed design and construction costs\n"
   ]
  },
  {
   "cell_type": "markdown",
   "metadata": {},
   "source": [
    "## Note\n",
    "Search this document for exclamation marks ! to find code chunks where the user can alter values to examine impacts on the allocation of costs and benefits\n",
    "\n",
    "For the inflation-adjustment portion of this notebook to function, the user must have na excel document titled \"Inflation.xlsx\" that contains federal inflation data. \n",
    "\n",
    "If you'd like to adjust values for inflation, you can use the table below (data for inflation adjustments accessed at: https://data.bls.gov/timeseries/CUUR0000SA0) and the following methodology: \n",
    "- Identify the year to which you'd like the value(s) to be adjusted. Find the corresponding number in the \"Total\" column. This value will be called \"Current Year\" or \"CYear\". Define the CYear variable with this value in the code chunk below the table. \n",
    "- Identify the original year to which your value(s) was pegged. Find the corresponding number in the \"Total\" column. This value will be called \"Past Year\" or \"PYear\". Define the PYear variable with this value in the code chunk below the table. \n",
    "- Plug the value you'd like to adjust for inflation into the \"VALUE\" variable. \n",
    "- Plug the output inflation-adjusted value into the User Input codechunk.\n",
    "- Re-run this process as many times as necessary to adjust all desired values for inflation. "
   ]
  },
  {
   "cell_type": "code",
   "execution_count": 2,
   "metadata": {},
   "outputs": [
    {
     "data": {
      "text/html": [
       "<div>\n",
       "<style scoped>\n",
       "    .dataframe tbody tr th:only-of-type {\n",
       "        vertical-align: middle;\n",
       "    }\n",
       "\n",
       "    .dataframe tbody tr th {\n",
       "        vertical-align: top;\n",
       "    }\n",
       "\n",
       "    .dataframe thead th {\n",
       "        text-align: right;\n",
       "    }\n",
       "</style>\n",
       "<table border=\"1\" class=\"dataframe\">\n",
       "  <thead>\n",
       "    <tr style=\"text-align: right;\">\n",
       "      <th></th>\n",
       "      <th>Year</th>\n",
       "      <th>Jan</th>\n",
       "      <th>Feb</th>\n",
       "      <th>Mar</th>\n",
       "      <th>Apr</th>\n",
       "      <th>May</th>\n",
       "      <th>Jun</th>\n",
       "      <th>Jul</th>\n",
       "      <th>Aug</th>\n",
       "      <th>Sep</th>\n",
       "      <th>Oct</th>\n",
       "      <th>Nov</th>\n",
       "      <th>Dec</th>\n",
       "      <th>HALF1</th>\n",
       "      <th>HALF2</th>\n",
       "      <th>Total</th>\n",
       "    </tr>\n",
       "  </thead>\n",
       "  <tbody>\n",
       "    <tr>\n",
       "      <th>0</th>\n",
       "      <td>2010</td>\n",
       "      <td>216.687</td>\n",
       "      <td>216.741</td>\n",
       "      <td>217.631</td>\n",
       "      <td>218.009</td>\n",
       "      <td>218.178</td>\n",
       "      <td>217.965</td>\n",
       "      <td>218.011</td>\n",
       "      <td>218.312</td>\n",
       "      <td>218.439</td>\n",
       "      <td>218.711</td>\n",
       "      <td>218.803</td>\n",
       "      <td>219.179</td>\n",
       "      <td>217.535</td>\n",
       "      <td>218.576</td>\n",
       "      <td>218.0555</td>\n",
       "    </tr>\n",
       "    <tr>\n",
       "      <th>1</th>\n",
       "      <td>2011</td>\n",
       "      <td>220.223</td>\n",
       "      <td>221.309</td>\n",
       "      <td>223.467</td>\n",
       "      <td>224.906</td>\n",
       "      <td>225.964</td>\n",
       "      <td>225.722</td>\n",
       "      <td>225.922</td>\n",
       "      <td>226.545</td>\n",
       "      <td>226.889</td>\n",
       "      <td>226.421</td>\n",
       "      <td>226.230</td>\n",
       "      <td>225.672</td>\n",
       "      <td>223.598</td>\n",
       "      <td>226.280</td>\n",
       "      <td>224.9390</td>\n",
       "    </tr>\n",
       "    <tr>\n",
       "      <th>2</th>\n",
       "      <td>2012</td>\n",
       "      <td>226.665</td>\n",
       "      <td>227.663</td>\n",
       "      <td>229.392</td>\n",
       "      <td>230.085</td>\n",
       "      <td>229.815</td>\n",
       "      <td>229.478</td>\n",
       "      <td>229.104</td>\n",
       "      <td>230.379</td>\n",
       "      <td>231.407</td>\n",
       "      <td>231.317</td>\n",
       "      <td>230.221</td>\n",
       "      <td>229.601</td>\n",
       "      <td>228.850</td>\n",
       "      <td>230.338</td>\n",
       "      <td>229.5940</td>\n",
       "    </tr>\n",
       "    <tr>\n",
       "      <th>3</th>\n",
       "      <td>2013</td>\n",
       "      <td>230.280</td>\n",
       "      <td>232.166</td>\n",
       "      <td>232.773</td>\n",
       "      <td>232.531</td>\n",
       "      <td>232.945</td>\n",
       "      <td>233.504</td>\n",
       "      <td>233.596</td>\n",
       "      <td>233.877</td>\n",
       "      <td>234.149</td>\n",
       "      <td>233.546</td>\n",
       "      <td>233.069</td>\n",
       "      <td>233.049</td>\n",
       "      <td>232.366</td>\n",
       "      <td>233.548</td>\n",
       "      <td>232.9570</td>\n",
       "    </tr>\n",
       "    <tr>\n",
       "      <th>4</th>\n",
       "      <td>2014</td>\n",
       "      <td>233.916</td>\n",
       "      <td>234.781</td>\n",
       "      <td>236.293</td>\n",
       "      <td>237.072</td>\n",
       "      <td>237.900</td>\n",
       "      <td>238.343</td>\n",
       "      <td>238.250</td>\n",
       "      <td>237.852</td>\n",
       "      <td>238.031</td>\n",
       "      <td>237.433</td>\n",
       "      <td>236.151</td>\n",
       "      <td>234.812</td>\n",
       "      <td>236.384</td>\n",
       "      <td>237.088</td>\n",
       "      <td>236.7360</td>\n",
       "    </tr>\n",
       "    <tr>\n",
       "      <th>5</th>\n",
       "      <td>2015</td>\n",
       "      <td>233.707</td>\n",
       "      <td>234.722</td>\n",
       "      <td>236.119</td>\n",
       "      <td>236.599</td>\n",
       "      <td>237.805</td>\n",
       "      <td>238.638</td>\n",
       "      <td>238.654</td>\n",
       "      <td>238.316</td>\n",
       "      <td>237.945</td>\n",
       "      <td>237.838</td>\n",
       "      <td>237.336</td>\n",
       "      <td>236.525</td>\n",
       "      <td>236.265</td>\n",
       "      <td>237.769</td>\n",
       "      <td>237.0170</td>\n",
       "    </tr>\n",
       "    <tr>\n",
       "      <th>6</th>\n",
       "      <td>2016</td>\n",
       "      <td>236.916</td>\n",
       "      <td>237.111</td>\n",
       "      <td>238.132</td>\n",
       "      <td>239.261</td>\n",
       "      <td>240.229</td>\n",
       "      <td>241.018</td>\n",
       "      <td>240.628</td>\n",
       "      <td>240.849</td>\n",
       "      <td>241.428</td>\n",
       "      <td>241.729</td>\n",
       "      <td>241.353</td>\n",
       "      <td>241.432</td>\n",
       "      <td>238.778</td>\n",
       "      <td>241.237</td>\n",
       "      <td>240.0075</td>\n",
       "    </tr>\n",
       "    <tr>\n",
       "      <th>7</th>\n",
       "      <td>2017</td>\n",
       "      <td>242.839</td>\n",
       "      <td>243.603</td>\n",
       "      <td>243.801</td>\n",
       "      <td>244.524</td>\n",
       "      <td>244.733</td>\n",
       "      <td>244.955</td>\n",
       "      <td>244.786</td>\n",
       "      <td>245.519</td>\n",
       "      <td>246.819</td>\n",
       "      <td>246.663</td>\n",
       "      <td>246.669</td>\n",
       "      <td>246.524</td>\n",
       "      <td>244.076</td>\n",
       "      <td>246.163</td>\n",
       "      <td>245.1195</td>\n",
       "    </tr>\n",
       "    <tr>\n",
       "      <th>8</th>\n",
       "      <td>2018</td>\n",
       "      <td>247.867</td>\n",
       "      <td>248.991</td>\n",
       "      <td>249.554</td>\n",
       "      <td>250.546</td>\n",
       "      <td>251.588</td>\n",
       "      <td>251.989</td>\n",
       "      <td>252.006</td>\n",
       "      <td>252.146</td>\n",
       "      <td>252.439</td>\n",
       "      <td>252.885</td>\n",
       "      <td>252.038</td>\n",
       "      <td>251.233</td>\n",
       "      <td>250.089</td>\n",
       "      <td>252.125</td>\n",
       "      <td>251.1070</td>\n",
       "    </tr>\n",
       "    <tr>\n",
       "      <th>9</th>\n",
       "      <td>2019</td>\n",
       "      <td>251.712</td>\n",
       "      <td>252.776</td>\n",
       "      <td>254.202</td>\n",
       "      <td>255.548</td>\n",
       "      <td>256.092</td>\n",
       "      <td>256.143</td>\n",
       "      <td>256.571</td>\n",
       "      <td>256.558</td>\n",
       "      <td>256.759</td>\n",
       "      <td>257.346</td>\n",
       "      <td>257.208</td>\n",
       "      <td>256.974</td>\n",
       "      <td>254.412</td>\n",
       "      <td>256.903</td>\n",
       "      <td>255.6575</td>\n",
       "    </tr>\n",
       "    <tr>\n",
       "      <th>10</th>\n",
       "      <td>2020</td>\n",
       "      <td>257.971</td>\n",
       "      <td>258.678</td>\n",
       "      <td>258.115</td>\n",
       "      <td>256.389</td>\n",
       "      <td>256.394</td>\n",
       "      <td>257.797</td>\n",
       "      <td>259.101</td>\n",
       "      <td>259.918</td>\n",
       "      <td>260.280</td>\n",
       "      <td>260.388</td>\n",
       "      <td>260.229</td>\n",
       "      <td>260.474</td>\n",
       "      <td>257.557</td>\n",
       "      <td>260.065</td>\n",
       "      <td>258.8110</td>\n",
       "    </tr>\n",
       "    <tr>\n",
       "      <th>11</th>\n",
       "      <td>2021</td>\n",
       "      <td>261.582</td>\n",
       "      <td>263.014</td>\n",
       "      <td>264.877</td>\n",
       "      <td>267.054</td>\n",
       "      <td>269.195</td>\n",
       "      <td>271.696</td>\n",
       "      <td>273.003</td>\n",
       "      <td>273.567</td>\n",
       "      <td>274.310</td>\n",
       "      <td>276.589</td>\n",
       "      <td>277.948</td>\n",
       "      <td>278.802</td>\n",
       "      <td>266.236</td>\n",
       "      <td>275.703</td>\n",
       "      <td>270.9695</td>\n",
       "    </tr>\n",
       "    <tr>\n",
       "      <th>12</th>\n",
       "      <td>2022</td>\n",
       "      <td>281.148</td>\n",
       "      <td>283.716</td>\n",
       "      <td>287.504</td>\n",
       "      <td>289.109</td>\n",
       "      <td>292.296</td>\n",
       "      <td>296.311</td>\n",
       "      <td>296.276</td>\n",
       "      <td>296.171</td>\n",
       "      <td>296.808</td>\n",
       "      <td>298.012</td>\n",
       "      <td>297.711</td>\n",
       "      <td>296.797</td>\n",
       "      <td>288.347</td>\n",
       "      <td>296.963</td>\n",
       "      <td>292.6550</td>\n",
       "    </tr>\n",
       "    <tr>\n",
       "      <th>13</th>\n",
       "      <td>2023</td>\n",
       "      <td>299.170</td>\n",
       "      <td>300.840</td>\n",
       "      <td>NaN</td>\n",
       "      <td>NaN</td>\n",
       "      <td>NaN</td>\n",
       "      <td>NaN</td>\n",
       "      <td>NaN</td>\n",
       "      <td>NaN</td>\n",
       "      <td>NaN</td>\n",
       "      <td>NaN</td>\n",
       "      <td>NaN</td>\n",
       "      <td>NaN</td>\n",
       "      <td>NaN</td>\n",
       "      <td>NaN</td>\n",
       "      <td>0.0000</td>\n",
       "    </tr>\n",
       "  </tbody>\n",
       "</table>\n",
       "</div>"
      ],
      "text/plain": [
       "    Year      Jan      Feb      Mar      Apr      May      Jun      Jul  \\\n",
       "0   2010  216.687  216.741  217.631  218.009  218.178  217.965  218.011   \n",
       "1   2011  220.223  221.309  223.467  224.906  225.964  225.722  225.922   \n",
       "2   2012  226.665  227.663  229.392  230.085  229.815  229.478  229.104   \n",
       "3   2013  230.280  232.166  232.773  232.531  232.945  233.504  233.596   \n",
       "4   2014  233.916  234.781  236.293  237.072  237.900  238.343  238.250   \n",
       "5   2015  233.707  234.722  236.119  236.599  237.805  238.638  238.654   \n",
       "6   2016  236.916  237.111  238.132  239.261  240.229  241.018  240.628   \n",
       "7   2017  242.839  243.603  243.801  244.524  244.733  244.955  244.786   \n",
       "8   2018  247.867  248.991  249.554  250.546  251.588  251.989  252.006   \n",
       "9   2019  251.712  252.776  254.202  255.548  256.092  256.143  256.571   \n",
       "10  2020  257.971  258.678  258.115  256.389  256.394  257.797  259.101   \n",
       "11  2021  261.582  263.014  264.877  267.054  269.195  271.696  273.003   \n",
       "12  2022  281.148  283.716  287.504  289.109  292.296  296.311  296.276   \n",
       "13  2023  299.170  300.840      NaN      NaN      NaN      NaN      NaN   \n",
       "\n",
       "        Aug      Sep      Oct      Nov      Dec    HALF1    HALF2    Total   \n",
       "0   218.312  218.439  218.711  218.803  219.179  217.535  218.576  218.0555  \n",
       "1   226.545  226.889  226.421  226.230  225.672  223.598  226.280  224.9390  \n",
       "2   230.379  231.407  231.317  230.221  229.601  228.850  230.338  229.5940  \n",
       "3   233.877  234.149  233.546  233.069  233.049  232.366  233.548  232.9570  \n",
       "4   237.852  238.031  237.433  236.151  234.812  236.384  237.088  236.7360  \n",
       "5   238.316  237.945  237.838  237.336  236.525  236.265  237.769  237.0170  \n",
       "6   240.849  241.428  241.729  241.353  241.432  238.778  241.237  240.0075  \n",
       "7   245.519  246.819  246.663  246.669  246.524  244.076  246.163  245.1195  \n",
       "8   252.146  252.439  252.885  252.038  251.233  250.089  252.125  251.1070  \n",
       "9   256.558  256.759  257.346  257.208  256.974  254.412  256.903  255.6575  \n",
       "10  259.918  260.280  260.388  260.229  260.474  257.557  260.065  258.8110  \n",
       "11  273.567  274.310  276.589  277.948  278.802  266.236  275.703  270.9695  \n",
       "12  296.171  296.808  298.012  297.711  296.797  288.347  296.963  292.6550  \n",
       "13      NaN      NaN      NaN      NaN      NaN      NaN      NaN    0.0000  "
      ]
     },
     "execution_count": 2,
     "metadata": {},
     "output_type": "execute_result"
    }
   ],
   "source": [
    "inflation = pd.read_excel(\"Inflation.xlsx\")\n",
    "inflation"
   ]
  },
  {
   "cell_type": "code",
   "execution_count": 43,
   "metadata": {},
   "outputs": [
    {
     "data": {
      "text/plain": [
       "846753.226461673"
      ]
     },
     "execution_count": 43,
     "metadata": {},
     "output_type": "execute_result"
    }
   ],
   "source": [
    "# ! Adjust these as needed to update numerical estimates for inflation \n",
    "\n",
    "CYear = 270.9695          # !\n",
    "PYear = 240.0075          # !\n",
    "VALUE = 750000               # ! \n",
    "VALUE * (CYear / PYear)"
   ]
  },
  {
   "cell_type": "markdown",
   "metadata": {},
   "source": [
    "## User-defined inputs \n",
    "Here, the user can input the parameters that will serve as the benchmark for evaluating ReNeM's CBA and the distribution of its costs and benefits. Presently, the values defined in this code chunk are derived from the experience at the Kelly-Thompson Ranch and Bokariza-Drobac recharge sites as well as other local circumstances in the Pajaro Valley."
   ]
  },
  {
   "cell_type": "code",
   "execution_count": 4,
   "metadata": {},
   "outputs": [],
   "source": [
    "# ! Adjust these to see how benefits and costs shift \n",
    "\n",
    "n=25            # project lifespan \n",
    "Q=375           # acre feet of water recharged per year, uniform\n",
    "Q1=[231.5199043, 367.0126999, 481.5905002, 292.6280645, 724.5681845, 493.2301497, 359.7048517, 179.3233509, \n",
    "    253.7079863, 272.4405473, 501.6788158, 501.4142783, 289.1725435, 287.1719788, 247.5244225, 588.5297804, \n",
    "    501.5961478, 364.4665266, 368.103917, 305.9045398, 375, 375, 375, 375, 375]\n",
    "                # list of acre feet of water recharged, variable, watsonville\n",
    "Q2=[17.34310786, 119.7574174, 130.274973, 409.9985158, 419.430188, 544.2136939, 282.3146465, 417.9720018, \n",
    "    212.2436509, 196.4518049, 17.34310786, 119.7574174, 130.274973, 409.9985158, 419.430188, 544.2136939, \n",
    "    282.3146465, 417.9720018, 212.2436509, 196.4518049]\n",
    "                # list of acre feet of water recharged, variable, Bokariza\n",
    "                # [4.529983793, 31.28038898, 34.02755267, 107.0907618, 109.554295, 142.1474878, 73.74, 109.1734198, 55.4376013, 51.31280389,4.529983793, 31.28038898, 34.02755267, 107.0907618, 109.554295, 142.1474878, 73.74, 109.1734198, 55.4376013, 51.31280389]\n",
    "V=650           # water replacement value\n",
    "C=263           # volumetric pumping fee\n",
    "lam=.5          # ReNeM rebate factor \n",
    "r=.06           # discount rate \n",
    "o=2             # number of ReNeM projects\n",
    "s_no=0          # baseline payment value per recharge project when agency doesn't pay rechargers a baseline\n",
    "s_yes=5000      # baseline payment value per recharge project when agency pays rechargers a baseline\n",
    "a=10.3          # number of acres dedicated exclusively to ReNeM \n",
    "M_e=500         # annual site operation and maintenance costs per project related to equipment\n",
    "M_l=1000        # annual site operation and maintenance costs per acre related to labor\n",
    "P=1780          # annual opportunity costs per acre of land to the recharger \n",
    "F=847000        # fixed design and construction costs per ReNeM project \n",
    "tpc_ac=13400    # annual third party certification costs \n",
    "tpc_fc=3700     # one-time, fixed third party certification costs "
   ]
  },
  {
   "cell_type": "markdown",
   "metadata": {},
   "source": [
    "## Other inputs\n",
    "In this section, I define inputs for this CBA. These defined inputs cover various NPV scenarios. These scenarios examine the influence uniform Q values, static Q values that differ year to year, and variable Q values have on NPV. As described above, NPV is generally based on discount rate (r), number of years (n), and annual benefits and costs. These defined inputs also define chart design. "
   ]
  },
  {
   "cell_type": "markdown",
   "metadata": {},
   "source": [
    "#### Net Present Value"
   ]
  },
  {
   "cell_type": "code",
   "execution_count": 5,
   "metadata": {},
   "outputs": [],
   "source": [
    "def npv(r, n, annual_benefit, annual_cost): \n",
    "    numerator = annual_benefit - annual_cost\n",
    "    array = np.arange(0,n)\n",
    "    denominator = (1+r)**array  \n",
    "    return np.sum(numerator/denominator)"
   ]
  },
  {
   "cell_type": "code",
   "execution_count": 6,
   "metadata": {},
   "outputs": [],
   "source": [
    "def npv_list(r, n, benefit_vals, cost_vals):\n",
    "    assert n == len(benefit_vals)\n",
    "    assert n == len(cost_vals)\n",
    "    numerator = benefit_vals - cost_vals\n",
    "    array = np.arange(0,n)\n",
    "    denominator = (1+r)**array\n",
    "    return np.sum(numerator/denominator)"
   ]
  },
  {
   "cell_type": "code",
   "execution_count": 7,
   "metadata": {},
   "outputs": [],
   "source": [
    "def get_npv_Qlist(n,Q,V,C,lam,r,o,s,a,M_e,M_l,P,F,tpc_ac,tpc_fc,print_Qs=False):\n",
    "        \n",
    "    assert type(Q) == list, \"Q should be list to run this function\"\n",
    "    Q = np.array(Q)\n",
    "    if print_Qs:\n",
    "        print(\"The Qs (infiltration volumes in afy) we use for NPV are:\")\n",
    "        print(Q)\n",
    "        \n",
    "    yearly_costs_agency = Q * C * lam + o * s\n",
    "    yearly_benefits_agency  = Q * V\n",
    "    agency_npv_Qlist = npv_list(r,n,yearly_benefits_agency,yearly_costs_agency)\n",
    "\n",
    "    yearly_benefits_recharger = Q * C * lam + o * s\n",
    "    yearly_cost_recharger  = np.full(n,o * M_e + a * (M_l + P))  \n",
    "    recharger_npv_Qlist = npv_list(r,n,yearly_benefits_recharger,yearly_cost_recharger)\n",
    "    \n",
    "    tpc_npv_Qlist = npv(r, n, 0, tpc_ac) - (F + tpc_fc)\n",
    "    \n",
    "    return agency_npv_Qlist, recharger_npv_Qlist, tpc_npv_Qlist"
   ]
  },
  {
   "cell_type": "code",
   "execution_count": 8,
   "metadata": {},
   "outputs": [],
   "source": [
    "def get_npvs_with_stochasticity(n,Q,V,C,lam,r,o,s,a,M_e,M_l,P,F,tpc_ac,tpc_fc,print_Qs=False, seed=0):\n",
    "        \n",
    "    assert type(Q) == list, \"Q should be list to run this function\"\n",
    "    Q = np.array(Q)\n",
    "    np.random.seed(seed)\n",
    "    Q_sampled = np.random.choice(Q,n)\n",
    "    if print_Qs:\n",
    "        print(\"The Qs (infiltration volumes in afy) we use for NPV are:\")\n",
    "        print(Q_sampled)\n",
    "        \n",
    "    yearly_costs = np.full(n,o * M_e + a * (M_l + P))\n",
    "    yearly_benefits = Q_sampled * V\n",
    "    npv_stoch = npv_list(r,n,yearly_benefits,yearly_costs)\n",
    "    \n",
    "    yearly_costs_agency = (Q_sampled * C * lam) + (o * s)\n",
    "    yearly_benefits_agency = Q_sampled * V\n",
    "    agency_npv_stoch = npv_list(r,n,yearly_benefits_agency,yearly_costs_agency)\n",
    "\n",
    "    yearly_benefits_recharger = Q_sampled * C * lam + o * s\n",
    "    yearly_cost_recharger  = np.full(n,o * M_e + a * (M_l + P)) \n",
    "    recharger_npv_stoch = npv_list(r,n,yearly_benefits_recharger,yearly_cost_recharger)\n",
    "    \n",
    "    tpc_npv_stoch = npv(r, n, 0, tpc_ac) - tpc_fc - F\n",
    "    tpc_all_stoch = npv(r, n, 0, tpc_ac) - tpc_fc - F\n",
    "    agency_npv_stoch_tpc_l = npv_list(r,n,yearly_benefits_agency,yearly_costs_agency) + tpc_npv_stoch\n",
    "    agency_npv_stoch_tpc = agency_npv_stoch_tpc_l + tpc_npv_stoch      \n",
    "        \n",
    "    npv_tpc_stoch = npv_stoch + tpc_all_stoch\n",
    "    \n",
    "    return npv_stoch, npv_tpc_stoch, agency_npv_stoch, recharger_npv_stoch, agency_npv_stoch_tpc_l, agency_npv_stoch_tpc"
   ]
  },
  {
   "cell_type": "markdown",
   "metadata": {},
   "source": [
    "#### Creating figures "
   ]
  },
  {
   "cell_type": "code",
   "execution_count": 9,
   "metadata": {},
   "outputs": [],
   "source": [
    "def show_values_on_bars(axs, h_v=\"v\", space=0.4):\n",
    "    def _show_on_single_plot(ax):\n",
    "        if h_v == \"v\":\n",
    "            for p in ax.patches:\n",
    "                value = int(p.get_height())\n",
    "                _x = p.get_x() + p.get_width() / 2       \n",
    "                if value < 0:\n",
    "                    _y = p.get_y() + p.get_height() - 2*float(space)\n",
    "                else:\n",
    "                    _y = p.get_y() + p.get_height() + float(space)\n",
    "                ax.text(_x, _y, value, ha=\"center\", fontsize=\"medium\") \n",
    "        elif h_v == \"h\":\n",
    "            for p in ax.patches:\n",
    "                _x = p.get_x() + p.get_width() + float(space)\n",
    "                _y = p.get_y() + p.get_height()\n",
    "                value = int(p.get_width())\n",
    "                ax.text(_x, _y, value, ha=\"left\", fontsize=\"medium\")\n",
    "    if isinstance(axs, np.ndarray):\n",
    "        for idx, ax in np.ndenumerate(axs):\n",
    "            _show_on_single_plot(ax)\n",
    "    else:\n",
    "        _show_on_single_plot(axs)"
   ]
  },
  {
   "cell_type": "code",
   "execution_count": 10,
   "metadata": {},
   "outputs": [],
   "source": [
    "def create_fig(n,Q,V,C,lam,r,o,s,a,M_e,M_l,P,F,tpc_ac,tpc_fc,title=None,space=0.3):\n",
    "    \n",
    "    annual_cost_agency = Q * C * lam + o * s\n",
    "    annual_benefit_agency  = Q * V\n",
    "    annual_net_benefit_agency = annual_benefit_agency - annual_cost_agency\n",
    "    agency_npv = npv(r,n,annual_benefit_agency,annual_cost_agency)\n",
    "    \n",
    "    annual_benefit_recharger = Q * C * lam + o * s\n",
    "    annual_cost_recharger  = o * M_e + a * (M_l + P) \n",
    "    annual_net_benefit_recharger = annual_benefit_recharger - annual_cost_recharger\n",
    "    recharger_npv = npv(r,n,annual_benefit_recharger,annual_cost_recharger)\n",
    "    \n",
    "    tpc_npv = npv(r, n, 0, tpc_ac) - (F + tpc_fc)\n",
    "\n",
    "    fig, ax = plt.subplots(1,3, sharey=True, figsize=(15,6))\n",
    "    \n",
    "    sns.barplot([\"Basin\",\"Recharger\", \"External parties\"],np.array([agency_npv,recharger_npv, tpc_npv])/1e3, ax=ax[0])\n",
    "    ax[0].set_ylabel(\"Net benefits (thousands of dollars)\", fontsize=\"large\")\n",
    "    ax[0].set_title(\"NPVs: fixed costs external funded\", fontsize=\"large\")\n",
    "    show_values_on_bars(ax[0], \"v\", space)\n",
    "    \n",
    "    sns.barplot([\"Basin\",\"Recharger\"],np.array([agency_npv+tpc_npv,recharger_npv])/1e3, ax=ax[1])\n",
    "    ax[1].set_title(\"NPVs: agency incurring third party costs\", fontsize=\"large\")\n",
    "    ax[1].yaxis.set_tick_params(labelbottom=True)\n",
    "    show_values_on_bars(ax[1], \"v\", space)\n",
    "\n",
    "    sns.barplot([\"Basin\",\"Recharger\",\"External parties\"],np.array([annual_net_benefit_agency,annual_net_benefit_recharger,-tpc_ac])/1e3, ax=ax[2])\n",
    "    ax[2].set_title(\"ReNeM's annual net benefits\", fontsize=\"x-large\")\n",
    "    ax[2].yaxis.set_tick_params(labelbottom=True)\n",
    "    show_values_on_bars(ax[2], \"v\", space)\n",
    "\n",
    "    ax[0].axhline(0, color=\"black\")\n",
    "    ax[1].axhline(0, color=\"black\")\n",
    "    ax[2].axhline(0, color=\"black\")\n",
    "    \n",
    "    if title:\n",
    "        fig.suptitle(title, fontsize=18)\n",
    "    fig.savefig( title + \".png\")\n",
    "    fig.savefig( title + \".pdf\")\n",
    "    \n",
    "    return agency_npv/1000, recharger_npv/1000, tpc_npv/1000\n"
   ]
  },
  {
   "cell_type": "code",
   "execution_count": 11,
   "metadata": {},
   "outputs": [],
   "source": [
    "def create_fig_Qlist(agency_npv_fig_Qlist,recharger_npv_fig_Qlist,agency_tpc_npv_fig_Qlist,\n",
    "                  agency_npv_baseline_fig_Qlist,recharger_npv_baseline_fig_Qlist,agency_tpc_npv_baseline_fig_Qlist,\n",
    "                  title=None,space=0.3):\n",
    "    \n",
    "    agency_npv_fig_Qlist = agency_npv_fig_Qlist\n",
    "    recharger_npv_fig_Qlist = recharger_npv_fig_Qlist\n",
    "    agency_tpc_npv_fig_Qlist = agency_tpc_npv_fig_Qlist\n",
    "    agency_npv_baseline_fig_Qlist = agency_npv_baseline_fig_Qlist\n",
    "    recharger_npv_baseline_fig_Qlist = recharger_npv_baseline_fig_Qlist\n",
    "    agency_tpc_npv_baseline_fig_Qlist = agency_tpc_npv_baseline_fig_Qlist\n",
    "\n",
    "    fig, ax = plt.subplots(1,2, sharey=True, figsize=(15,6))\n",
    "    \n",
    "    sns.barplot([\"Basin\",\"Recharger\",\"Agency internalizing TPC costs\"],np.array([agency_npv_fig_Qlist,recharger_npv_fig_Qlist,agency_tpc_npv_fig_Qlist]), ax=ax[0])\n",
    "    ax[0].set_ylabel(\"Net benefits (thousands of dollars)\")\n",
    "    ax[0].set_title(\"NPVs without a baseline\")\n",
    "    show_values_on_bars(ax[0], \"v\", space)\n",
    "    \n",
    "    sns.barplot([\"Basin\",\"Recharger\",\"Agency internalizing TPC costs\"],np.array([agency_npv_baseline_fig_Qlist,recharger_npv_baseline_fig_Qlist,agency_tpc_npv_baseline_fig_Qlist]), ax=ax[1])\n",
    "    ax[1].set_title(\"NPVs with a baseline\")\n",
    "    show_values_on_bars(ax[1], \"v\", space)\n",
    "    ax[1].yaxis.set_tick_params(labelbottom=True)\n",
    "\n",
    "    ax[0].axhline(0, color=\"black\")\n",
    "    ax[1].axhline(0, color=\"black\")\n",
    "    \n",
    "    if title:\n",
    "        fig.suptitle(title, fontsize=14)\n",
    "    fig.savefig( title + \".png\")\n",
    "    fig.savefig( title + \".pdf\")"
   ]
  },
  {
   "cell_type": "code",
   "execution_count": 12,
   "metadata": {},
   "outputs": [],
   "source": [
    "def create_fig_Qlist2(agency_npv_fig_Qlist2,recharger_npv_fig_Qlist2,agency_tpc_npv_fig_Qlist2,\n",
    "                  agency_npv_baseline_fig_Qlist2,recharger_npv_baseline_fig_Qlist2,agency_tpc_npv_baseline_fig_Qlist2,\n",
    "                  title=None,space=0.3):\n",
    "    \n",
    "    agency_npv_fig_Qlist2 = agency_npv_fig_Qlist2\n",
    "    recharger_npv_fig_Qlist2 = recharger_npv_fig_Qlist2\n",
    "    agency_tpc_npv_fig_Qlist2 = agency_tpc_npv_fig_Qlist2\n",
    "    agency_npv_baseline_fig_Qlist2 = agency_npv_baseline_fig_Qlist2\n",
    "    recharger_npv_baseline_fig_Qlist2 = recharger_npv_baseline_fig_Qlist2\n",
    "    agency_tpc_npv_baseline_fig_Qlist2 = agency_tpc_npv_baseline_fig_Qlist2\n",
    "\n",
    "    fig, ax = plt.subplots(1,2, sharey=True, figsize=(15,6))\n",
    "    \n",
    "    sns.barplot([\"Basin\",\"Recharger\",\"Agency internalizing TPC costs\"],np.array([agency_npv_fig_Qlist2,recharger_npv_fig_Qlist2,agency_tpc_npv_fig_Qlist2]), ax=ax[0])\n",
    "    ax[0].set_ylabel(\"Net benefits (thousands of dollars)\")\n",
    "    ax[0].set_title(\"NPVs without a baseline\")\n",
    "    show_values_on_bars(ax[0], \"v\", space)\n",
    "    \n",
    "    sns.barplot([\"Basin\",\"Recharger\",\"Agency internalizing TPC costs\"],np.array([agency_npv_baseline_fig_Qlist2,recharger_npv_baseline_fig_Qlist2,agency_tpc_npv_baseline_fig_Qlist2]), ax=ax[1])\n",
    "    ax[1].set_title(\"NPVs with a baseline\")\n",
    "    show_values_on_bars(ax[1], \"v\", space)\n",
    "    ax[1].yaxis.set_tick_params(labelbottom=True)\n",
    "\n",
    "    ax[0].axhline(0, color=\"black\")\n",
    "    ax[1].axhline(0, color=\"black\")\n",
    "    \n",
    "    if title:\n",
    "        fig.suptitle(title, fontsize=14)\n",
    "    fig.savefig( title + \".png\")\n",
    "    fig.savefig( title + \".pdf\")"
   ]
  },
  {
   "cell_type": "code",
   "execution_count": 13,
   "metadata": {},
   "outputs": [],
   "source": [
    "def create_fig_stoch(agency_npv_fig_stoch,recharger_npv_fig_stoch,agency_tpc_npv_fig_stoch,\n",
    "                  agency_npv_baseline_fig_stoch,recharger_npv_baseline_fig_stoch,agency_tpc_npv_baseline_fig_stoch,\n",
    "                  title=None,space=0.3):\n",
    "    \n",
    "    agency_npv_fig_stoch = agency_npv_fig_stoch\n",
    "    recharger_npv_fig_stoch = recharger_npv_fig_stoch\n",
    "    agency_tpc_npv_fig_stoch = agency_tpc_npv_fig_stoch\n",
    "    agency_npv_baseline_fig_stoch = agency_npv_baseline_fig_stoch\n",
    "    recharger_npv_baseline_fig_stoch = recharger_npv_baseline_fig_stoch\n",
    "    agency_tpc_npv_baseline_fig_stoch = agency_tpc_npv_baseline_fig_stoch\n",
    "\n",
    "    fig, ax = plt.subplots(1,2, sharey=True, figsize=(15,6))\n",
    "    \n",
    "    sns.barplot([\"Basin\",\"Recharger\",\"Agency internalizing TPC costs\"],np.array([agency_npv_fig_stoch,recharger_npv_fig_stoch,agency_tpc_npv_fig_stoch]), ax=ax[0])\n",
    "    ax[0].set_ylabel(\"Net benefits (thousands of dollars)\", fontsize=\"large\")\n",
    "    ax[0].set_title(\"NPVs without a baseline\", fontsize=\"large\")\n",
    "    show_values_on_bars(ax[0], \"v\", space)\n",
    "    \n",
    "    sns.barplot([\"Basin\",\"Recharger\",\"Agency internalizing TPC costs\"],np.array([agency_npv_baseline_fig_stoch,recharger_npv_baseline_fig_stoch,agency_tpc_npv_baseline_fig_stoch]), ax=ax[1])\n",
    "    ax[1].set_title(\"NPVs with a baseline\", fontsize=\"large\")\n",
    "    show_values_on_bars(ax[1], \"v\", space)\n",
    "    ax[1].yaxis.set_tick_params(labelbottom=True)\n",
    "\n",
    "    ax[0].axhline(0, color=\"black\")\n",
    "    ax[1].axhline(0, color=\"black\")\n",
    "\n",
    "    if title:\n",
    "        fig.suptitle(title, fontsize=14)\n",
    "    fig.savefig( title + \".png\")\n",
    "    fig.savefig( title + \".pdf\")"
   ]
  },
  {
   "cell_type": "code",
   "execution_count": 14,
   "metadata": {},
   "outputs": [],
   "source": [
    "def create_fig_stoch2(agency_npv_fig_stoch2,recharger_npv_fig_stoch2,agency_tpc_npv_fig_stoch2,\n",
    "                  agency_npv_baseline_fig_stoch2,recharger_npv_baseline_fig_stoch2,agency_tpc_npv_baseline_fig_stoch2,\n",
    "                  title=None,space=0.3):\n",
    "    \n",
    "    agency_npv_fig_stoch2 = agency_npv_fig_stoch2\n",
    "    recharger_npv_fig_stoch2 = recharger_npv_fig_stoch2\n",
    "    agency_tpc_npv_fig_stoch2 = agency_tpc_npv_fig_stoch2\n",
    "    agency_npv_baseline_fig_stoch2 = agency_npv_baseline_fig_stoch2\n",
    "    recharger_npv_baseline_fig_stoch2 = recharger_npv_baseline_fig_stoch2\n",
    "    agency_tpc_npv_baseline_fig_stoch2 = agency_tpc_npv_baseline_fig_stoch2\n",
    "\n",
    "    fig, ax = plt.subplots(1,2, sharey=True, figsize=(15,6))\n",
    "    \n",
    "    sns.barplot([\"Basin\",\"Recharger\",\"Agency internalizing TPC costs\"],np.array([agency_npv_fig_stoch2,recharger_npv_fig_stoch2,agency_tpc_npv_fig_stoch2]), ax=ax[0])\n",
    "    ax[0].set_ylabel(\"Net benefits (thousands of dollars)\", fontsize=\"large\")\n",
    "    ax[0].set_title(\"NPVs without a baseline\", fontsize=\"large\")\n",
    "    show_values_on_bars(ax[0], \"v\", space)\n",
    "    \n",
    "    sns.barplot([\"Basin\",\"Recharger\",\"Agency internalizing TPC costs\"],np.array([agency_npv_baseline_fig_stoch2,recharger_npv_baseline_fig_stoch2,agency_tpc_npv_baseline_fig_stoch2]), ax=ax[1])\n",
    "    ax[1].set_title(\"NPVs with a baseline\", fontsize=\"large\")\n",
    "    show_values_on_bars(ax[1], \"v\", space)\n",
    "    ax[1].yaxis.set_tick_params(labelbottom=True)\n",
    "\n",
    "    ax[0].axhline(0, color=\"black\")\n",
    "    ax[1].axhline(0, color=\"black\")\n",
    "\n",
    "    if title:\n",
    "        fig.suptitle(title, fontsize=14)\n",
    "    fig.savefig( title + \".png\")\n",
    "    fig.savefig( title + \".pdf\")"
   ]
  },
  {
   "cell_type": "code",
   "execution_count": 15,
   "metadata": {},
   "outputs": [],
   "source": [
    "def create_fig_uniform(agency_npv_uniform,recharger_npv_uniform,agency_tpc_npv_uniform,\n",
    "                    agency_npv_baseline_uniform,recharger_npv_baseline_uniform,agency_tpc_npv_baseline_uniform,\n",
    "                    title=None,space=0.3):\n",
    "    \n",
    "    agency_npv_uniform = agency_npv_uniform\n",
    "    recharger_npv_uniform = recharger_npv_uniform\n",
    "    agency_tpc_npv_uniform = agency_tpc_npv_uniform\n",
    "    agency_npv_baseline_uniform = agency_npv_baseline_uniform\n",
    "    recharger_npv_baseline_uniform = recharger_npv_baseline_uniform\n",
    "    agency_tpc_npv_baseline_uniform = agency_tpc_npv_baseline_uniform\n",
    "\n",
    "    fig, ax = plt.subplots(1,2, sharey=True, figsize=(15,6))\n",
    "    \n",
    "    sns.barplot([\"Basin\",\"Recharger\",\"Basin internalizing TPC costs\"],np.array([agency_npv_uniform,recharger_npv_uniform,agency_tpc_npv_uniform]), ax=ax[0])\n",
    "    ax[0].set_ylabel(\"Net benefits (thousands of dollars)\", fontsize=\"large\")\n",
    "    ax[0].set_title(\"NPVs without a baseline\", fontsize=\"large\")\n",
    "    show_values_on_bars(ax[0], \"v\", space)\n",
    "    \n",
    "    sns.barplot([\"Basin\",\"Recharger\",\"Basin internalizing TPC costs\"],np.array([agency_npv_baseline_uniform,recharger_npv_baseline_uniform,agency_tpc_npv_baseline_uniform]), ax=ax[1])\n",
    "    ax[1].set_title(\"NPVs with a baseline\", fontsize=\"large\")\n",
    "    show_values_on_bars(ax[1], \"v\", space)\n",
    "    ax[1].yaxis.set_tick_params(labelbottom=True)\n",
    "\n",
    "    ax[0].axhline(0, color=\"black\")\n",
    "    ax[1].axhline(0, color=\"black\")\n",
    "    \n",
    "    if title:\n",
    "        fig.suptitle(title, fontsize=14)\n",
    "    fig.savefig( title + \".png\")\n",
    "    fig.savefig( title + \".pdf\")"
   ]
  },
  {
   "cell_type": "code",
   "execution_count": 16,
   "metadata": {},
   "outputs": [],
   "source": [
    "def create_fig_final_nolabels(aggregate_tpc_npv_fig_stoch, agency_tpc_npv_fig_stoch, recharger_npv_fig_stoch, \n",
    "                              title=None,space=0.2):\n",
    "\n",
    "    aggregate_tpc_npv_fig_stoch=aggregate_tpc_npv_fig_stoch\n",
    "    agency_tpc_npv_fig_stoch=agency_tpc_npv_fig_stoch\n",
    "    recharger_npv_fig_stoch=recharger_npv_fig_stoch\n",
    "    \n",
    "    fig, ax = plt.subplots(1,1, figsize=(7,6))\n",
    "\n",
    "    sns.barplot([\"Aggregate\",\"Agency\", \"Rechargers\"],np.array([aggregate_tpc_npv_fig_stoch,agency_tpc_npv_fig_stoch,recharger_npv_fig_stoch]),ax=ax)\n",
    "    ax.set_ylabel(\"Net present value (thousands of dollars)\", fontsize=\"large\")\n",
    "    show_values_on_bars(ax, \"v\", space=.5)\n",
    "\n",
    "    ax.axhline(0, color=\"black\")\n",
    "    ax.set_title(\"ReNeM's Aggregate and Distributional Benefits\", fontsize=\"14\")\n",
    "   \n",
    "    fig.savefig(\"ReNeM's Aggregate and Distributional Benefits\" + \".png\")\n",
    "    fig.savefig(\"ReNeM's Aggregate and Distributional Benefits\" + \".pdf\")"
   ]
  },
  {
   "cell_type": "code",
   "execution_count": 17,
   "metadata": {},
   "outputs": [],
   "source": [
    "def create_fig_final(aggregate_npv_fig_stoch, \n",
    "                     aggregate_tpc_npv_fig_stoch, \n",
    "                     agency_npv_fig_stoch, \n",
    "                     agency_npv_baseline_fig_stoch, \n",
    "                     agency_tpc_npv_fig_stoch,\n",
    "                     agency_tpc_npv_baseline_fig_stoch,\n",
    "                     recharger_npv_fig_stoch, \n",
    "                     recharger_npv_baseline_fig_stoch,\n",
    "                     title=None,space=0.2):\n",
    "\n",
    "    aggregate_npv_fig_stoch=aggregate_npv_fig_stoch    \n",
    "    aggregate_tpc_npv_fig_stoch=aggregate_tpc_npv_fig_stoch\n",
    "    agency_npv_fig_stoch=agency_npv_fig_stoch\n",
    "    agency_npv_baseline_fig_stoch=agency_npv_baseline_fig_stoch\n",
    "    agency_tpc_npv_fig_stoch=agency_tpc_npv_fig_stoch\n",
    "    agency_tpc_npv_baseline_fig_stoch=agency_tpc_npv_baseline_fig_stoch\n",
    "    recharger_npv_fig_stoch=recharger_npv_fig_stoch\n",
    "    recharger_npv_baseline_fig_stoch=recharger_npv_baseline_fig_stoch\n",
    "    \n",
    "    fig, ax = plt.subplots(1,1, figsize=(15,6))\n",
    "    \n",
    "    sns.barplot([\"Aggregate\",\"Aggregate (TPC)\",\n",
    "                 \"PV Water\",\"PV Water (baseline)\",\"PV Water (TPC)\",\"PV Water (baseline & TPC)\",\n",
    "                 \"Rechargers\",\"Rechargers (baseline)\"],\n",
    "                np.array([aggregate_npv_fig_stoch,aggregate_tpc_npv_fig_stoch,\n",
    "                          agency_npv_fig_stoch,agency_npv_baseline_fig_stoch,\n",
    "                          agency_tpc_npv_fig_stoch,agency_tpc_npv_baseline_fig_stoch,\n",
    "                          recharger_npv_fig_stoch,recharger_npv_baseline_fig_stoch]),\n",
    "               ax=ax)\n",
    "    ax.axhline(0, color=\"black\")\n",
    "    ax.set_title(\"ReNeM's Aggregate and Distributional Benefits\", fontsize=\"14\")\n",
    "    show_values_on_bars(ax, \"v\", space=.5)\n",
    "    ax.set_ylabel(\"Net present value (thousands of dollars)\", fontsize=\"large\")\n",
    "   \n",
    "    fig.savefig(\"SI_ALL_ReNeM's Aggregate and Distributional Benefits\" + \".png\")\n",
    "    fig.savefig(\"SI_ALL_ReNeM's Aggregate and Distributional Benefits\" + \".pdf\")"
   ]
  },
  {
   "cell_type": "markdown",
   "metadata": {},
   "source": [
    "## Analysis\n",
    "### Assessing distribution of benefits based on uniform infiltration across all project years\n",
    "Because the ReNeM program has been in operation in the Pajaro Valley for several years, we are able to use real data to conduct a retrospective CBA––that is, we are able to examine how the costs and benefits were distributed between rechargers in the Pajaro Valley and the PVWMA since the program's inception. The Fisher Lab estimates that near-term average infiltration across ReNeM recharge sites will be ~275 acre feet of water per year, though the Pajaro Valley's long-term goal for the ReNeM program is to recruit a sufficient number of projects to infiltrate 1,000 acre feet of water per year. With this estimate in mind, this section of the CBA examines the distribution of benefits between the basin and the recharger when the amount of water infiltrated each year is modeled to remain static at 275 acre feet per year across all years of the projects’ lifetime. This section also models ReNeM's benefit distribution under two scenarios: when the program is entirely performance-based––that is, the payments rechargers receive are entirely linked to the amount of water they infiltrate––and when the program includes a baseline payment––a payment meant to guarantee minimum payments to rechargers despite potential infiltration variability caused by dry weather conditions."
   ]
  },
  {
   "cell_type": "code",
   "execution_count": 18,
   "metadata": {},
   "outputs": [],
   "source": [
    "# ! Adjust these to see how benefits and costs shift \n",
    "\n",
    "n=25            # project lifespan \n",
    "Q=375           # acre feet of water recharged per year, uniform\n",
    "Q1=[231.5199043, 367.0126999, 481.5905002, 292.6280645, 724.5681845, 493.2301497, 359.7048517, 179.3233509, \n",
    "    253.7079863, 272.4405473, 501.6788158, 501.4142783, 289.1725435, 287.1719788, 247.5244225, 588.5297804, \n",
    "    501.5961478, 364.4665266, 368.103917, 305.9045398, 375, 375, 375, 375, 375]\n",
    "                # list of acre feet of water recharged, variable, watsonville\n",
    "Q2=[17.34310786, 119.7574174, 130.274973, 409.9985158, 419.430188, 544.2136939, 282.3146465, 417.9720018, \n",
    "    212.2436509, 196.4518049, 17.34310786, 119.7574174, 130.274973, 409.9985158, 419.430188, 544.2136939, \n",
    "    282.3146465, 417.9720018, 212.2436509, 196.4518049]\n",
    "                # list of acre feet of water recharged, variable, Bokariza\n",
    "                # [4.529983793, 31.28038898, 34.02755267, 107.0907618, 109.554295, 142.1474878, 73.74, 109.1734198, 55.4376013, 51.31280389,4.529983793, 31.28038898, 34.02755267, 107.0907618, 109.554295, 142.1474878, 73.74, 109.1734198, 55.4376013, 51.31280389]\n",
    "V=650           # water replacement value\n",
    "C=263           # volumetric pumping fee\n",
    "lam=.5          # ReNeM rebate factor \n",
    "r=.06           # discount rate \n",
    "o=2             # number of ReNeM projects\n",
    "s_no=0          # baseline payment value per recharge project when agency doesn't pay rechargers a baseline\n",
    "s_yes=5000      # baseline payment value per recharge project when agency pays rechargers a baseline\n",
    "a=10.3          # number of acres dedicated exclusively to ReNeM \n",
    "M_e=500         # annual site operation and maintenance costs per project related to equipment\n",
    "M_l=1000        # annual site operation and maintenance costs per acre related to labor\n",
    "P=1780          # annual opportunity costs per acre of land to the recharger \n",
    "F=847000        # fixed design and construction costs per ReNeM project \n",
    "tpc_ac=13400    # annual third party certification costs \n",
    "tpc_fc=3700     # one-time, fixed third party certification costs "
   ]
  },
  {
   "cell_type": "markdown",
   "metadata": {},
   "source": [
    "### NPV With Static Infiltration Value & Without Baseline Payment"
   ]
  },
  {
   "cell_type": "code",
   "execution_count": 19,
   "metadata": {},
   "outputs": [
    {
     "data": {
      "image/png": "[encoded data removed]",
      "text/plain": [
       "<Figure size 1080x432 with 3 Axes>"
      ]
     },
     "metadata": {
      "needs_background": "light"
     },
     "output_type": "display_data"
    }
   ],
   "source": [
    "agency_static_npv, recharger_static_npv, tpc_static_npv = create_fig(n=n,Q=Q,V=V,C=C,lam=lam,r=r,o=o,s=s_no,a=a,M_e=M_e,M_l=M_l,P=P,F=F,tpc_ac=tpc_ac,tpc_fc=tpc_fc,\n",
    "           title=\"Benefit Allocation Under ReNeM Program\",space=5)"
   ]
  },
  {
   "cell_type": "markdown",
   "metadata": {},
   "source": [
    "### NPV With Static Infiltration Value & Baseline Payment "
   ]
  },
  {
   "cell_type": "code",
   "execution_count": 20,
   "metadata": {},
   "outputs": [
    {
     "data": {
      "image/png": "[encoded data removed]",
      "text/plain": [
       "<Figure size 1080x432 with 3 Axes>"
      ]
     },
     "metadata": {
      "needs_background": "light"
     },
     "output_type": "display_data"
    }
   ],
   "source": [
    "agency_baseline_static_npv, recharger_baseline_static_npv, tpc_baseline_static_npv = create_fig(n=n,Q=Q,V=V,C=C,lam=lam,r=r,o=o,s=s_yes,a=a,M_e=M_e,M_l=M_l,P=P,F=F,tpc_ac=tpc_ac,tpc_fc=tpc_fc,\n",
    "           title=\"Benefit Allocation Under ReNeM Program With Baseline Payment\",space=5)"
   ]
  },
  {
   "cell_type": "markdown",
   "metadata": {},
   "source": [
    "### Assessing distribution of benefits from set list of variable infiltration across project years \n",
    "Though the above assessment based on uniform infiltration across project years is useful analytically, it omits one crucial reality: precipitation has interannual variability. Though the existing sensitivity analysis attempts to address this concern by examining how shifting different variables' values influences the distribution of benefits, one key element is missing: rainfall variability (and by extension, infiltration variability). By not modeling this variability, we're unable to assess how this variability and its necessary impact on infiltration volume may impact distribution of benefits under the ReNeM program. With this weakness in mind, we want to repeat the above process but under a scenario in which infiltration volume varies year to year rather than remaining uniform across all project years. Incorporating variable infiltration amounts enables us to begin to assess the impact infiltration variability has on the distribution of benefits under ReNeM. \n",
    "\n",
    "#### Method 1: Extrapolation based on Watsonville rainfall gauge \n",
    "There may be several ways of incorporating infiltration volume variability into this analysis (i.e. using measured infiltration values from past years at existing project sites or simply plugging in realistic but made-up values). First, this section of the CBA extrapolates infiltration volumes from historic rainfall records at the Watsonville rainfall gauge. This approach was selected for two primary reasons. First, records at this gauge span water years 2002 - 2021, meaning there is great longevity to the time series. Second, extrapolating infiltration from real rainfall data is a simplification of the formula the Fisher Lab presently uses to estimate infiltration at each basin. Thus, though overly simplistic, it provides a defensible starting point than simply making up values. Watsonville rainfall gauge data can be accessed at: https://www.cnrfc.noaa.gov/rainfall_data.php.\n",
    " \n",
    "Specifically, across water years 2002-2021 at the Watsonville rainfall gauge, average rainfall was 20.62 inches. Assuming average infiltration across these water years could have been 375 acre feet per year––the anticipated average infiltration across existing ReNeM project sites in the Pajaro Valley––and assuming linearity between rainfall and infiltration, we derive the following formula: \n",
    "\n",
    "    infiltration = rainfall * 18.19\n",
    "\n",
    "We recognize that this formula likely overestimates infiltration during dry years, underestimates infiltration during wet years, and oversimplifies other hydrologic complexities. Despite these shortcomings, it is nonetheless useful for CBA purposes to make these assumptions in order to model the potential impact of rainfall variability on the distribution of benefits under ReNeM. \n",
    "\n",
    "#### NPV With Set List of Variable Infiltration Values from Watsonville\n",
    "231.5199043, 367.0126999, 481.5905002, 292.6280645, 724.5681845, 493.2301497, 359.7048517, 179.3233509, 253.7079863, 272.4405473, 501.6788158, 501.4142783, 289.1725435, 287.1719788, 247.5244225, 588.5297804, 501.5961478, 364.4665266, 368.103917, 305.9045398"
   ]
  },
  {
   "cell_type": "markdown",
   "metadata": {},
   "source": [
    "### NPV based on fixed infiltration value "
   ]
  },
  {
   "cell_type": "code",
   "execution_count": 21,
   "metadata": {},
   "outputs": [],
   "source": [
    "agency_npv_Qlist, recharger_npv_Qlist, tpc_npv_Qlist = get_npv_Qlist(n=n,Q=Q1,\n",
    "   V=V,C=C,lam=lam,r=r,o=o,s=s_no,a=a,M_e=M_e,M_l=M_l,P=P,F=F,tpc_ac=tpc_ac,tpc_fc=tpc_fc,print_Qs = False)"
   ]
  },
  {
   "cell_type": "code",
   "execution_count": 22,
   "metadata": {},
   "outputs": [],
   "source": [
    "agency_npv_Qlist_baseline, recharger_npv_Qlist_baseline, tpc_npv_Qlist_baseline = get_npv_Qlist(n=n,Q=Q1,   \n",
    "   V=V,C=C,lam=lam,r=r,o=o,s=s_yes,a=a,M_e=M_e,M_l=M_l,P=P,F=F,tpc_ac=tpc_ac,tpc_fc=tpc_fc,print_Qs = False)"
   ]
  },
  {
   "cell_type": "markdown",
   "metadata": {},
   "source": [
    "### Assessing distribution of benefits using stochasticity & Monte Carlo simulation of variable infiltration across all project years\n",
    "Running a CBA based on a set list of variable infiltration values helps us assess the impact variable precipitation and infiltration may have on the allocation of benefits. However, because the list of infiltration values is set, our assessment is limited to the specific conditions we can extrapolate from that specific list of provided infiltration values. For instance, the ~170 acre feet of estimated infiltration for year 1 of the set list is relatively low and may have an outsized impact on NPV evaluations. \n",
    " \n",
    "The amount of water infiltrated at a ReNeM site is a key element of the rebate formula, meaning it has a substantial impact on how much money the agency, as a proxy for the basin, pays and how much money the recharger receives. The quantity of water infiltrated is in large part a product of rainfall quantity. Rainfall quantity can vary drastically year to year and decade to decade. However, absent probability distribution sampling (as in, with NPV calculations that assume uniform infiltration across all project years), this CBA altogether fails to account for the impact of variability on benefits distribution and, thus, the sensitivity analysis cannot consider how shifting variability influences benefits distribution. \n",
    " \n",
    "Put more simply, a CBA that does not model infiltration variability has limited utility for water management agencies. \n",
    " \n",
    "Unfortunately, we do not have the ability to predict rainfall amounts well into the future. As a consequence, if we want to consider the impact of rainfall variability on NPV calculations, rather than construct a CBA that looks at prospective rainfall variability, we must construct a CBA that looks at retrospective rainfall variability and must assume that future years will experience similar variability. We recognize that this approach is imperfect. Despite its imperfections, it is essential that this CBA attempt to model rainfall variability so that a wider range of water management agencies can reference this CBA and extrapolate its findings to their own local conditions. \n",
    " \n",
    "To this end and as explained above, we used rainfall data from the Watsonville rainfall gauge from water years 2002-2021 to estimate infiltration volume under the assumption that rainfall variation over the past 20 years and the coming 20 years will be comparable. Running this simulation once––what this CBA calls a \"Set List of Variable Infiltration Values\"––assumes that rainfall will be identical. However, again, this assumption limits the CBA's applicability because it remains case-specific, both in place and in time, to the Pajaro Valley from 2002-2021. \n",
    " \n",
    "To address this weakness, this CBA builds in a Monte Carlo simulation. Monte Carlo simulations model how the uncertainty and/or risk of an input variable can impact potential results. To this end, a Monte Carlo approach uses random sampling over numerous simulations to examine the distribution of potential outcomes. The Monte Carlo simulation method is preferable to alternative probability distribution simulation methods (i.e. Latin Hybercube Sampling) because its sampling method is truly randomized. \n",
    " \n",
    "Running a Monte Carlo simulation based on this list of infiltration values addresses this weakness. A Monte Carlo simulation accounts for risk by running through a range of possible outcomes and expressing the probabilities that those outcomes will occur. Within the guise of this CBA, this Monte Carlo simulation shows the range of possible net present values of ReNeM's benefits and the likelihood/frequency that those net present values will occur. To accomplish this, an infiltration value is selected at random from the provided list of potential Q values for each project year in order to produce a NPV. This process is repeated 10,000 with replacement for each of the 10,000 simulations. The 10,000 NPV amounts are then displayed on a histogram. "
   ]
  },
  {
   "cell_type": "markdown",
   "metadata": {},
   "source": [
    "### NPV With Stochastic Selection from List of Variable Infiltration Values & Without Baseline Payment "
   ]
  },
  {
   "cell_type": "code",
   "execution_count": 23,
   "metadata": {},
   "outputs": [
    {
     "name": "stdout",
     "output_type": "stream",
     "text": [
      "The Qs (infiltration volumes in afy) we use for NPV are:\n",
      "[289.1725435 588.5297804 375.        231.5199043 292.6280645 292.6280645\n",
      " 179.3233509 272.4405473 305.9045398 375.        368.103917  724.5681845\n",
      " 375.        359.7048517 375.        375.        289.1725435 367.0126999\n",
      " 359.7048517 179.3233509 375.        247.5244225 375.        364.4665266\n",
      " 493.2301497]\n"
     ]
    }
   ],
   "source": [
    "aggregate_npv_stoch, aggregate_tpc_npv_stoch, agency_npv_stoch, recharger_npv_stoch, agency_npv_stoch_tpc_l, agency_npv_stoch_tpc = get_npvs_with_stochasticity(n=n,Q=Q1,\n",
    "   V=V,C=C,lam=lam,r=r,o=o,s=s_no,a=a,M_e=M_e,M_l=M_l,P=P,F=F,tpc_ac=tpc_ac,tpc_fc=tpc_fc,print_Qs = True)"
   ]
  },
  {
   "cell_type": "code",
   "execution_count": 24,
   "metadata": {
    "scrolled": false
   },
   "outputs": [],
   "source": [
    "aggregate_npv_stoch_list = []\n",
    "aggregate_tpc_npv_stoch_list = []\n",
    "agency_npv_stoch_list = []\n",
    "recharger_npv_stoch_list = []\n",
    "agency_npv_stoch_tpc_l_list = []\n",
    "agency_npv_stoch_tpc_list = []\n",
    "\n",
    "for i in range(10000):\n",
    "    aggregate_npv_stoch, aggregate_tpc_npv_stoch, agency_npv_stoch, recharger_npv_stoch, agency_npv_stoch_tpc_l, agency_npv_stoch_tpc = get_npvs_with_stochasticity(n=n,Q=Q1,\n",
    "    V=V,C=C,lam=lam,r=r,o=o,s=s_no,a=a,M_e=M_e,M_l=M_l,P=P,F=F,tpc_ac=tpc_ac,tpc_fc=tpc_fc, seed=i, print_Qs=False)\n",
    "    \n",
    "    aggregate_npv_stoch_list.append(aggregate_npv_stoch)\n",
    "    aggregate_tpc_npv_stoch_list.append(aggregate_tpc_npv_stoch)\n",
    "    agency_npv_stoch_list.append(agency_npv_stoch)\n",
    "    recharger_npv_stoch_list.append(recharger_npv_stoch)\n",
    "    agency_npv_stoch_tpc_l_list.append(agency_npv_stoch_tpc_l) \n",
    "    agency_npv_stoch_tpc_list.append(agency_npv_stoch_tpc)"
   ]
  },
  {
   "cell_type": "code",
   "execution_count": 25,
   "metadata": {},
   "outputs": [
    {
     "name": "stdout",
     "output_type": "stream",
     "text": [
      "274.2578396417403\n",
      "1632.4175003843654\n"
     ]
    }
   ],
   "source": [
    "recharger_mean = np.mean(recharger_npv_stoch_list)/1000\n",
    "print(recharger_mean)\n",
    "basin_mean = np.mean(agency_npv_stoch_tpc_l_list)/1000\n",
    "print(basin_mean)"
   ]
  },
  {
   "cell_type": "markdown",
   "metadata": {},
   "source": [
    "## Boxplot version"
   ]
  },
  {
   "cell_type": "code",
   "execution_count": 26,
   "metadata": {},
   "outputs": [],
   "source": [
    "total_npv = np.array(recharger_npv_stoch_list) + np.array(agency_npv_stoch_tpc_l_list)\n",
    "\n",
    "y = [np.array(total_npv)/1000000,\n",
    "     np.array(agency_npv_stoch_tpc_l_list)/1000000, \n",
    "     np.array(recharger_npv_stoch_list)/1000000]"
   ]
  },
  {
   "cell_type": "code",
   "execution_count": 27,
   "metadata": {},
   "outputs": [],
   "source": [
    "r_median_round = round(np.median(recharger_npv_stoch_list),-4).astype(int)\n",
    "a_median_round = round(np.median(agency_npv_stoch_tpc_l_list),-4).astype(int)\n",
    "t_median_round = round(np.median(total_npv),-4).astype(int)"
   ]
  },
  {
   "cell_type": "code",
   "execution_count": 28,
   "metadata": {},
   "outputs": [
    {
     "data": {
      "text/plain": [
       "1900000"
      ]
     },
     "execution_count": 28,
     "metadata": {},
     "output_type": "execute_result"
    }
   ],
   "source": [
    "t_median_round"
   ]
  },
  {
   "cell_type": "markdown",
   "metadata": {},
   "source": [
    "## Barplot with error bars version"
   ]
  },
  {
   "cell_type": "code",
   "execution_count": 29,
   "metadata": {},
   "outputs": [
    {
     "data": {
      "image/png": "[encoded data removed]",
      "text/plain": [
       "<Figure size 504x504 with 1 Axes>"
      ]
     },
     "metadata": {
      "needs_background": "light"
     },
     "output_type": "display_data"
    }
   ],
   "source": [
    "fig, ax =plt.subplots(1, figsize=(7,7))\n",
    "\n",
    "ax.bar([\"Total\",\"Basin\",\"Recharger\"], [np.median(y[0]), np.median(y[1]), np.median([y[2]])],\n",
    "       color =[\"#B2BEB5\",\"#1f77b4\",\"#ff7f0e\" ],\n",
    "        width = 0.7,capsize=10, \n",
    "       yerr= [\n",
    "           np.std(total_npv/1000000) * 1.96,\n",
    "           np.std(np.array(agency_npv_stoch_tpc_l_list)/1000000) * 1.96,\n",
    "           np.std(np.array(recharger_npv_stoch_list)/1000000)*1.96\n",
    "       ])\n",
    "\n",
    "#ax.text(.04,t_median_round/1000000 + .04, r\"$\"+\"{:,} million\".format(t_median_round/1e6), size=11)\n",
    "#ax.text(1.04,a_median_round/1000000 + .04, r\"$\"+\"{:,} million\".format(a_median_round/1e6), size=11)\n",
    "#ax.text(1.49,r_median_round/1000000 + .04, r\"$\"+\"{:,} million\".format(r_median_round/1e6), size=11)\n",
    "\n",
    "ax.set_xlim(-.5,2.5)\n",
    "ax.set_ylabel(\"Net Present Value (millions of dollars)\", size=15)\n",
    "#plt.tight_layout()\n",
    "ax.set_title(\"NPV Distribution\", size=18)\n",
    "fig.savefig(\"Fig2_barplot_with_error_bars_ls_2022_11_4.png\", dpi=300)\n",
    "fig.savefig(\"Fig2_barplot_with_error_bars_ls_2022_11_4.pdf\", dpi=300)"
   ]
  },
  {
   "cell_type": "code",
   "execution_count": 30,
   "metadata": {},
   "outputs": [
    {
     "data": {
      "text/plain": [
       "234.87618178512525"
      ]
     },
     "execution_count": 30,
     "metadata": {},
     "output_type": "execute_result"
    }
   ],
   "source": [
    "np.std(total_npv/1000)"
   ]
  },
  {
   "cell_type": "code",
   "execution_count": 31,
   "metadata": {},
   "outputs": [
    {
     "data": {
      "text/plain": [
       "460.3573162988455"
      ]
     },
     "execution_count": 31,
     "metadata": {},
     "output_type": "execute_result"
    }
   ],
   "source": [
    "np.std(total_npv/1000) * 1.96"
   ]
  },
  {
   "cell_type": "markdown",
   "metadata": {},
   "source": [
    "***"
   ]
  },
  {
   "cell_type": "markdown",
   "metadata": {},
   "source": [
    "### NPV With Stochastic Selection from List of Variable Infiltration Values & With Baseline Payment "
   ]
  },
  {
   "cell_type": "code",
   "execution_count": 32,
   "metadata": {},
   "outputs": [
    {
     "name": "stdout",
     "output_type": "stream",
     "text": [
      "The Qs (infiltration volumes in afy) we use for NPV are:\n",
      "[289.1725435 588.5297804 375.        231.5199043 292.6280645 292.6280645\n",
      " 179.3233509 272.4405473 305.9045398 375.        368.103917  724.5681845\n",
      " 375.        359.7048517 375.        375.        289.1725435 367.0126999\n",
      " 359.7048517 179.3233509 375.        247.5244225 375.        364.4665266\n",
      " 493.2301497]\n"
     ]
    }
   ],
   "source": [
    "aggregate_npv_stoch, aggregate_tpc_npv_stoch, agency_npv_stoch_baseline, recharger_npv_stoch_baseline, agency_npv_stoch_tpc_l_baseline, agency_npv_stoch_tpc_baseline = get_npvs_with_stochasticity(n=n,Q=Q1,\n",
    "   V=V,C=C,lam =lam,r=r,o=o,s=s_yes,a=a,M_e=M_e,M_l=M_l,P=P,F=F,tpc_ac=tpc_ac,tpc_fc=tpc_fc,print_Qs = True)"
   ]
  },
  {
   "cell_type": "code",
   "execution_count": 33,
   "metadata": {},
   "outputs": [],
   "source": [
    "aggregate_list = []\n",
    "aggregate_tpc_list = []\n",
    "agency_npv_stoch_baseline_list = []\n",
    "recharger_npv_stoch_baseline_list = []\n",
    "agency_npv_stoch_tpc_l_baseline_list = []\n",
    "agency_npv_stoch_tpc_baseline_list = []\n",
    "\n",
    "for i in range(10000):\n",
    "    aggregate_npv_stoch, aggregate_tpc_npv_stoch, agency_npv_stoch_baseline, recharger_npv_stoch_baseline, agency_npv_stoch_tpc_l_baseline, agency_npv_stoch_tpc_baseline = get_npvs_with_stochasticity(n=n,Q=Q1,\n",
    "    V=V,C=C,lam=lam,r=r,o=o,s=s_yes,a=a,M_e=M_e,M_l=M_l,P=P,F=F,tpc_ac=tpc_ac,tpc_fc=tpc_fc, seed=i, print_Qs=False)\n",
    "    \n",
    "    aggregate_list.append(aggregate_npv_stoch)\n",
    "    aggregate_tpc_list.append(aggregate_tpc_npv_stoch)\n",
    "    agency_npv_stoch_baseline_list.append(agency_npv_stoch_baseline)\n",
    "    recharger_npv_stoch_baseline_list.append(recharger_npv_stoch_baseline)\n",
    "    agency_npv_stoch_tpc_l_baseline_list.append(agency_npv_stoch_tpc_l_baseline)\n",
    "    agency_npv_stoch_tpc_baseline_list.append(agency_npv_stoch_tpc_baseline)"
   ]
  },
  {
   "cell_type": "code",
   "execution_count": 34,
   "metadata": {},
   "outputs": [
    {
     "data": {
      "image/png": "[encoded data removed]",
      "text/plain": [
       "<Figure size 720x360 with 2 Axes>"
      ]
     },
     "metadata": {
      "needs_background": "light"
     },
     "output_type": "display_data"
    }
   ],
   "source": [
    "##May want to add in third subplot that shows Basin NPV when it internalizes tpc costs## ! \n",
    "\n",
    "fig, ax = plt.subplots(1,2, figsize= (10,5))\n",
    "\n",
    "_ =  ax[0].hist(np.array(agency_npv_stoch_tpc_l_baseline_list)/1000, density=False)\n",
    "_ =  ax[1].hist(np.array(recharger_npv_stoch_baseline_list)/1000, density=False)\n",
    "\n",
    "ax[0].set_title(\"Basin\")\n",
    "ax[1].set_title(\"Recharger\")\n",
    "\n",
    "ax[0].set_ylabel(\"Frequency\")\n",
    "ax[0].set_xlabel(\"Basin NPV (thousands of dollars)\")\n",
    "ax[1].set_xlabel(\"Recharger NPV (thousands of dollars)\")\n",
    "_ = fig.suptitle(\"Method 1: Dist of NPVs under 10,000 simulations where Q in each year is sampled with replacement and each recharge project recieves a baseline payment\")\n",
    "\n",
    "fig.savefig(\"SI_MC distributionwith baseline\" + \".png\")\n",
    "fig.savefig(\"SI_ALL_MC distributionwith baseline\" + \".pdf\")"
   ]
  },
  {
   "cell_type": "markdown",
   "metadata": {},
   "source": [
    "### Comparing NPVs for Rechargers & the Basin Based on These Three Methods for Modeling Infiltration Amounts"
   ]
  },
  {
   "cell_type": "code",
   "execution_count": 35,
   "metadata": {},
   "outputs": [
    {
     "data": {
      "image/png": "[encoded data removed]",
      "text/plain": [
       "<Figure size 1080x432 with 2 Axes>"
      ]
     },
     "metadata": {
      "needs_background": "light"
     },
     "output_type": "display_data"
    }
   ],
   "source": [
    "aggregate_avg_npv_from_stoch = np.mean(aggregate_npv_stoch_list)/1000\n",
    "aggregate_tpc_avg_npv_from_stoch = np.mean(aggregate_tpc_npv_stoch_list)/1000\n",
    "agency_avg_npv_from_stoch = np.mean(agency_npv_stoch_list)/1000\n",
    "recharger_avg_npv_from_stoch = np.mean(recharger_npv_stoch_list)/1000\n",
    "agency_avg_tpc_npv_fig_from_stoch = agency_avg_npv_from_stoch + tpc_static_npv\n",
    "\n",
    "agency_avg_npv_from_stoch_baseline = np.mean(agency_npv_stoch_baseline_list)/1000\n",
    "recharger_avg_npv_from_stoch_baseline = np.mean(recharger_npv_stoch_baseline_list)/1000\n",
    "agency_avg_tpc_npv_fig_from_stoch_baseline = agency_avg_npv_from_stoch_baseline + tpc_static_npv\n",
    "\n",
    "create_fig_stoch(agency_npv_fig_stoch=agency_avg_npv_from_stoch,\n",
    "                 recharger_npv_fig_stoch=recharger_avg_npv_from_stoch,\n",
    "                 agency_tpc_npv_fig_stoch=agency_avg_tpc_npv_fig_from_stoch,\n",
    "                 \n",
    "                 agency_npv_baseline_fig_stoch = agency_avg_npv_from_stoch_baseline,\n",
    "                 recharger_npv_baseline_fig_stoch= recharger_avg_npv_from_stoch_baseline,\n",
    "                 agency_tpc_npv_baseline_fig_stoch= agency_avg_tpc_npv_fig_from_stoch_baseline,\n",
    "              title=\"Mean NPV Based on Monte Carlo Simulation of Variable Infiltration Values\",space=5)"
   ]
  },
  {
   "cell_type": "code",
   "execution_count": 36,
   "metadata": {},
   "outputs": [
    {
     "data": {
      "image/png": "[encoded data removed]",
      "text/plain": [
       "<Figure size 1080x432 with 2 Axes>"
      ]
     },
     "metadata": {
      "needs_background": "light"
     },
     "output_type": "display_data"
    }
   ],
   "source": [
    "create_fig_uniform(agency_npv_uniform= agency_static_npv,\n",
    "                recharger_npv_uniform=recharger_static_npv,\n",
    "                agency_tpc_npv_uniform=agency_static_npv+tpc_static_npv,\n",
    "                agency_npv_baseline_uniform=agency_baseline_static_npv,\n",
    "                recharger_npv_baseline_uniform=recharger_baseline_static_npv,\n",
    "                agency_tpc_npv_baseline_uniform=agency_baseline_static_npv+tpc_baseline_static_npv,\n",
    "              title=\"NPV Based on Uniform Infiltration Values Across Project Years\",space=5)"
   ]
  },
  {
   "cell_type": "code",
   "execution_count": 37,
   "metadata": {},
   "outputs": [],
   "source": [
    "mpl.rcParams['axes.prop_cycle'] = mpl.cycler(color=['gray','#1f77b4','#ff7f0e']) "
   ]
  },
  {
   "cell_type": "code",
   "execution_count": 38,
   "metadata": {},
   "outputs": [
    {
     "data": {
      "image/png": "[encoded data removed]",
      "text/plain": [
       "<Figure size 504x432 with 1 Axes>"
      ]
     },
     "metadata": {
      "needs_background": "light"
     },
     "output_type": "display_data"
    }
   ],
   "source": [
    "create_fig_final_nolabels(aggregate_tpc_npv_fig_stoch=aggregate_tpc_avg_npv_from_stoch,\n",
    "                 recharger_npv_fig_stoch=recharger_avg_npv_from_stoch,\n",
    "                 agency_tpc_npv_fig_stoch=agency_avg_tpc_npv_fig_from_stoch,\n",
    "                 title=\"ReNeM's Aggregate and Distributional Benefits\",space=5)"
   ]
  },
  {
   "cell_type": "code",
   "execution_count": 39,
   "metadata": {},
   "outputs": [],
   "source": [
    "mpl.rcParams['axes.prop_cycle'] = mpl.cycler(color=['gray', '#C0C0C0', '#2ca02c', '#98df8a', '#1f77b4', '#aec7e8', '#ff7f0e', '#ffbb78']) "
   ]
  },
  {
   "cell_type": "code",
   "execution_count": 40,
   "metadata": {},
   "outputs": [
    {
     "data": {
      "image/png": "[encoded data removed]",
      "text/plain": [
       "<Figure size 1080x432 with 1 Axes>"
      ]
     },
     "metadata": {
      "needs_background": "light"
     },
     "output_type": "display_data"
    }
   ],
   "source": [
    "create_fig_final(aggregate_npv_fig_stoch = aggregate_avg_npv_from_stoch,\n",
    "                 aggregate_tpc_npv_fig_stoch = aggregate_tpc_avg_npv_from_stoch,\n",
    "                 agency_npv_fig_stoch = agency_avg_npv_from_stoch,\n",
    "                 agency_npv_baseline_fig_stoch = agency_avg_npv_from_stoch_baseline,\n",
    "                 recharger_npv_fig_stoch = recharger_avg_npv_from_stoch,\n",
    "                 recharger_npv_baseline_fig_stoch = recharger_avg_npv_from_stoch_baseline,\n",
    "                 agency_tpc_npv_fig_stoch = agency_avg_tpc_npv_fig_from_stoch,\n",
    "                 agency_tpc_npv_baseline_fig_stoch = agency_avg_tpc_npv_fig_from_stoch_baseline,\n",
    "                 title = \"ReNeM's Distribution of Benefits Under Different Scenarios\",space=5)"
   ]
  },
  {
   "cell_type": "code",
   "execution_count": null,
   "metadata": {},
   "outputs": [],
   "source": []
  }
 ],
 "metadata": {
  "kernelspec": {
   "display_name": "Python 3 (ipykernel)",
   "language": "python",
   "name": "python3"
  },
  "language_info": {
   "codemirror_mode": {
    "name": "ipython",
    "version": 3
   },
   "file_extension": ".py",
   "mimetype": "text/x-python",
   "name": "python",
   "nbconvert_exporter": "python",
   "pygments_lexer": "ipython3",
   "version": "3.9.7"
  }
 },
 "nbformat": 4,
 "nbformat_minor": 2
}
